{
 "cells": [
  {
   "cell_type": "code",
   "execution_count": 1,
   "metadata": {},
   "outputs": [],
   "source": [
    "from getauth import get_auth\n",
    "import tweepy"
   ]
  },
  {
   "cell_type": "code",
   "execution_count": 2,
   "metadata": {},
   "outputs": [],
   "source": [
    "auth_keys = {}\n",
    "with open('keys.txt', 'r') as file:\n",
    "    for line in file:\n",
    "        var = line.split()\n",
    "        auth_keys[var[0]] = var[2]"
   ]
  },
  {
   "cell_type": "code",
   "execution_count": 3,
   "metadata": {},
   "outputs": [],
   "source": [
    "auth = tweepy.OAuthHandler(auth_keys[\"API_KEY\"], auth_keys[\"API_KEY_SECRET\"])\n",
    "auth.set_access_token(auth_keys[\"ACCESS_TOKEN\"], auth_keys[\"ACCESS_TOKEN_SECRET\"])\n",
    "\n",
    "api = tweepy.API(auth)"
   ]
  },
  {
   "cell_type": "code",
   "execution_count": 4,
   "metadata": {},
   "outputs": [
    {
     "name": "stdout",
     "output_type": "stream",
     "text": [
      "['RT @micsolana: can a tech writer for @wired, @latimes, @techCrunch, or the @washingtonpost, all of which have published anti-proposition 22…', 'RT @nvk: 2020 will be known as the year Journalists finally burned down USA for the clicks.', '@vk3_prince @whoisaddison You’d think a fan would cite sources though. 🤷🏽\\u200d♂️', 'Our temporary solution to a temporary problem has become a permanent problem.', '@StephenPiment @0x49fa98 GPT-3 is really a Turing Test for the reader.', '@NedLorde It’s definitely getting harder.', '@DylanoRepublic @visualizevalue 🙏', 'RT @atulrc: https://t.co/9jLS1NE6r9', \"RT @galjudo: There's no opponent. You're fighting against yourself.\", '@Algorithmexist Yes, similar setting, different point.', 'I wrote a story.\\n\\nhttps://t.co/StyzoQldYF', '@bizontheside Thank you. Not a \"guru\" though 😉.', 'RT @SvenSchnieders: By making modesty a virtue, we have made excellence a vice.', '@HustleScienceOn Credit: https://t.co/7VkyhUVTwC', '@spakhm @RationalAztec Love.', '@RationalAztec Well played.', '@RationalAztec Stand alone, carry others.', 'RT @RationalAztec: Status games.\\n\\nThe external battles you fight with society due to losing an internal war. https://t.co/zPUARga6OP', 'RT @jackbutcher: The principal-agent problem applies to every facet of life.\\n\\nHealth and happiness can’t be outsourced (they’re principal p…', '@James11804433 Touché.']\n"
     ]
    }
   ],
   "source": [
    "naval_tweets = api.user_timeline(screen_name='naval')\n",
    "print([tweet.text for tweet in naval_tweets])"
   ]
  },
  {
   "cell_type": "code",
   "execution_count": 5,
   "metadata": {},
   "outputs": [],
   "source": [
    "class GetUserTweets:\n",
    "    def __init__(self, twitter_api, username):\n",
    "        self.username = username\n",
    "        self.tweets = []\n",
    "        self.tweets_text = []\n",
    "        self.max_pages = 1\n",
    "        self.api = twitter_api\n",
    "        \n",
    "    def print_tweets(self):\n",
    "        print(self.tweets_text)\n",
    "    \n",
    "    def fetch_tweets(self, num_pages):\n",
    "        for i in range(1, num_pages+1):\n",
    "            self.tweets += self.api.user_timeline(screen_name=self.username, page=i, tweet_mode='extended')\n",
    "        self.tweets_text = list(filter(lambda sentence: sentence != '', [self.clean_tweet(tweet.full_text) for tweet in self.tweets]))\n",
    "        \n",
    "    def get_tweets(self):\n",
    "        return self.tweets_text\n",
    "    \n",
    "    def clean_tweet(self, tweet):\n",
    "        words = tweet.split('\\n\\n')\n",
    "        words = ' '.join(words)\n",
    "        words = words.split('\\n')\n",
    "        words = ' '.join(words)\n",
    "        words = words.split(' ')\n",
    "        \n",
    "        # remove RT\n",
    "        if words[0] == 'RT':\n",
    "            words = words[2:]\n",
    "        \n",
    "        words = list(filter(\n",
    "            lambda word: not (word.startswith('https://') or word.startswith('@')),\n",
    "            words\n",
    "        ))\n",
    "        \n",
    "        return ' '.join(words)"
   ]
  },
  {
   "cell_type": "code",
   "execution_count": 6,
   "metadata": {},
   "outputs": [],
   "source": [
    "def get_clean_data(list_of_usernames, num_pages):\n",
    "    all_data = []\n",
    "    for username in list_of_usernames:\n",
    "        user = GetUserTweets(api, username)\n",
    "        user.fetch_tweets(num_pages)\n",
    "        user_tweets = user.get_tweets()\n",
    "        all_data += user_tweets\n",
    "        print(f'got {len(user_tweets)} tweets from @{username}')\n",
    "    \n",
    "    return all_data"
   ]
  },
  {
   "cell_type": "code",
   "execution_count": 87,
   "metadata": {},
   "outputs": [],
   "source": [
    "naval = GetUserTweets(api, 'naval')"
   ]
  },
  {
   "cell_type": "code",
   "execution_count": 78,
   "metadata": {},
   "outputs": [
    {
     "name": "stdout",
     "output_type": "stream",
     "text": [
      "Status(_api=<tweepy.api.API object at 0x7f2cb403e1f0>, _json={'created_at': 'Mon Oct 12 20:07:20 +0000 2020', 'id': 1315745893199478784, 'id_str': '1315745893199478784', 'full_text': 'Our temporary solution to a temporary problem has become a permanent problem.', 'truncated': False, 'display_text_range': [0, 77], 'entities': {'hashtags': [], 'symbols': [], 'user_mentions': [], 'urls': []}, 'source': '<a href=\"http://twitter.com/download/iphone\" rel=\"nofollow\">Twitter for iPhone</a>', 'in_reply_to_status_id': None, 'in_reply_to_status_id_str': None, 'in_reply_to_user_id': None, 'in_reply_to_user_id_str': None, 'in_reply_to_screen_name': None, 'user': {'id': 745273, 'id_str': '745273', 'name': 'Naval', 'screen_name': 'naval', 'location': '', 'description': '', 'url': 'https://t.co/s6SQqD1ln0', 'entities': {'url': {'urls': [{'url': 'https://t.co/s6SQqD1ln0', 'expanded_url': 'https://nav.al', 'display_url': 'nav.al', 'indices': [0, 23]}]}, 'description': {'urls': []}}, 'protected': False, 'followers_count': 1006780, 'friends_count': 0, 'listed_count': 14158, 'created_at': 'Thu Feb 01 23:05:04 +0000 2007', 'favourites_count': 151602, 'utc_offset': None, 'time_zone': None, 'geo_enabled': True, 'verified': False, 'statuses_count': 22992, 'lang': None, 'contributors_enabled': False, 'is_translator': False, 'is_translation_enabled': False, 'profile_background_color': '352726', 'profile_background_image_url': 'http://abs.twimg.com/images/themes/theme5/bg.gif', 'profile_background_image_url_https': 'https://abs.twimg.com/images/themes/theme5/bg.gif', 'profile_background_tile': False, 'profile_image_url': 'http://pbs.twimg.com/profile_images/1256841238298292232/ycqwaMI2_normal.jpg', 'profile_image_url_https': 'https://pbs.twimg.com/profile_images/1256841238298292232/ycqwaMI2_normal.jpg', 'profile_banner_url': 'https://pbs.twimg.com/profile_banners/745273/1588490328', 'profile_link_color': 'D02B55', 'profile_sidebar_border_color': '829D5E', 'profile_sidebar_fill_color': '99CC33', 'profile_text_color': '3E4415', 'profile_use_background_image': True, 'has_extended_profile': False, 'default_profile': False, 'default_profile_image': False, 'following': False, 'follow_request_sent': False, 'notifications': False, 'translator_type': 'none'}, 'geo': None, 'coordinates': None, 'place': None, 'contributors': None, 'is_quote_status': False, 'retweet_count': 1381, 'favorite_count': 5810, 'favorited': False, 'retweeted': False, 'lang': 'en'}, created_at=datetime.datetime(2020, 10, 12, 20, 7, 20), id=1315745893199478784, id_str='1315745893199478784', full_text='Our temporary solution to a temporary problem has become a permanent problem.', truncated=False, display_text_range=[0, 77], entities={'hashtags': [], 'symbols': [], 'user_mentions': [], 'urls': []}, source='Twitter for iPhone', source_url='http://twitter.com/download/iphone', in_reply_to_status_id=None, in_reply_to_status_id_str=None, in_reply_to_user_id=None, in_reply_to_user_id_str=None, in_reply_to_screen_name=None, author=User(_api=<tweepy.api.API object at 0x7f2cb403e1f0>, _json={'id': 745273, 'id_str': '745273', 'name': 'Naval', 'screen_name': 'naval', 'location': '', 'description': '', 'url': 'https://t.co/s6SQqD1ln0', 'entities': {'url': {'urls': [{'url': 'https://t.co/s6SQqD1ln0', 'expanded_url': 'https://nav.al', 'display_url': 'nav.al', 'indices': [0, 23]}]}, 'description': {'urls': []}}, 'protected': False, 'followers_count': 1006780, 'friends_count': 0, 'listed_count': 14158, 'created_at': 'Thu Feb 01 23:05:04 +0000 2007', 'favourites_count': 151602, 'utc_offset': None, 'time_zone': None, 'geo_enabled': True, 'verified': False, 'statuses_count': 22992, 'lang': None, 'contributors_enabled': False, 'is_translator': False, 'is_translation_enabled': False, 'profile_background_color': '352726', 'profile_background_image_url': 'http://abs.twimg.com/images/themes/theme5/bg.gif', 'profile_background_image_url_https': 'https://abs.twimg.com/images/themes/theme5/bg.gif', 'profile_background_tile': False, 'profile_image_url': 'http://pbs.twimg.com/profile_images/1256841238298292232/ycqwaMI2_normal.jpg', 'profile_image_url_https': 'https://pbs.twimg.com/profile_images/1256841238298292232/ycqwaMI2_normal.jpg', 'profile_banner_url': 'https://pbs.twimg.com/profile_banners/745273/1588490328', 'profile_link_color': 'D02B55', 'profile_sidebar_border_color': '829D5E', 'profile_sidebar_fill_color': '99CC33', 'profile_text_color': '3E4415', 'profile_use_background_image': True, 'has_extended_profile': False, 'default_profile': False, 'default_profile_image': False, 'following': False, 'follow_request_sent': False, 'notifications': False, 'translator_type': 'none'}, id=745273, id_str='745273', name='Naval', screen_name='naval', location='', description='', url='https://t.co/s6SQqD1ln0', entities={'url': {'urls': [{'url': 'https://t.co/s6SQqD1ln0', 'expanded_url': 'https://nav.al', 'display_url': 'nav.al', 'indices': [0, 23]}]}, 'description': {'urls': []}}, protected=False, followers_count=1006780, friends_count=0, listed_count=14158, created_at=datetime.datetime(2007, 2, 1, 23, 5, 4), favourites_count=151602, utc_offset=None, time_zone=None, geo_enabled=True, verified=False, statuses_count=22992, lang=None, contributors_enabled=False, is_translator=False, is_translation_enabled=False, profile_background_color='352726', profile_background_image_url='http://abs.twimg.com/images/themes/theme5/bg.gif', profile_background_image_url_https='https://abs.twimg.com/images/themes/theme5/bg.gif', profile_background_tile=False, profile_image_url='http://pbs.twimg.com/profile_images/1256841238298292232/ycqwaMI2_normal.jpg', profile_image_url_https='https://pbs.twimg.com/profile_images/1256841238298292232/ycqwaMI2_normal.jpg', profile_banner_url='https://pbs.twimg.com/profile_banners/745273/1588490328', profile_link_color='D02B55', profile_sidebar_border_color='829D5E', profile_sidebar_fill_color='99CC33', profile_text_color='3E4415', profile_use_background_image=True, has_extended_profile=False, default_profile=False, default_profile_image=False, following=False, follow_request_sent=False, notifications=False, translator_type='none'), user=User(_api=<tweepy.api.API object at 0x7f2cb403e1f0>, _json={'id': 745273, 'id_str': '745273', 'name': 'Naval', 'screen_name': 'naval', 'location': '', 'description': '', 'url': 'https://t.co/s6SQqD1ln0', 'entities': {'url': {'urls': [{'url': 'https://t.co/s6SQqD1ln0', 'expanded_url': 'https://nav.al', 'display_url': 'nav.al', 'indices': [0, 23]}]}, 'description': {'urls': []}}, 'protected': False, 'followers_count': 1006780, 'friends_count': 0, 'listed_count': 14158, 'created_at': 'Thu Feb 01 23:05:04 +0000 2007', 'favourites_count': 151602, 'utc_offset': None, 'time_zone': None, 'geo_enabled': True, 'verified': False, 'statuses_count': 22992, 'lang': None, 'contributors_enabled': False, 'is_translator': False, 'is_translation_enabled': False, 'profile_background_color': '352726', 'profile_background_image_url': 'http://abs.twimg.com/images/themes/theme5/bg.gif', 'profile_background_image_url_https': 'https://abs.twimg.com/images/themes/theme5/bg.gif', 'profile_background_tile': False, 'profile_image_url': 'http://pbs.twimg.com/profile_images/1256841238298292232/ycqwaMI2_normal.jpg', 'profile_image_url_https': 'https://pbs.twimg.com/profile_images/1256841238298292232/ycqwaMI2_normal.jpg', 'profile_banner_url': 'https://pbs.twimg.com/profile_banners/745273/1588490328', 'profile_link_color': 'D02B55', 'profile_sidebar_border_color': '829D5E', 'profile_sidebar_fill_color': '99CC33', 'profile_text_color': '3E4415', 'profile_use_background_image': True, 'has_extended_profile': False, 'default_profile': False, 'default_profile_image': False, 'following': False, 'follow_request_sent': False, 'notifications': False, 'translator_type': 'none'}, id=745273, id_str='745273', name='Naval', screen_name='naval', location='', description='', url='https://t.co/s6SQqD1ln0', entities={'url': {'urls': [{'url': 'https://t.co/s6SQqD1ln0', 'expanded_url': 'https://nav.al', 'display_url': 'nav.al', 'indices': [0, 23]}]}, 'description': {'urls': []}}, protected=False, followers_count=1006780, friends_count=0, listed_count=14158, created_at=datetime.datetime(2007, 2, 1, 23, 5, 4), favourites_count=151602, utc_offset=None, time_zone=None, geo_enabled=True, verified=False, statuses_count=22992, lang=None, contributors_enabled=False, is_translator=False, is_translation_enabled=False, profile_background_color='352726', profile_background_image_url='http://abs.twimg.com/images/themes/theme5/bg.gif', profile_background_image_url_https='https://abs.twimg.com/images/themes/theme5/bg.gif', profile_background_tile=False, profile_image_url='http://pbs.twimg.com/profile_images/1256841238298292232/ycqwaMI2_normal.jpg', profile_image_url_https='https://pbs.twimg.com/profile_images/1256841238298292232/ycqwaMI2_normal.jpg', profile_banner_url='https://pbs.twimg.com/profile_banners/745273/1588490328', profile_link_color='D02B55', profile_sidebar_border_color='829D5E', profile_sidebar_fill_color='99CC33', profile_text_color='3E4415', profile_use_background_image=True, has_extended_profile=False, default_profile=False, default_profile_image=False, following=False, follow_request_sent=False, notifications=False, translator_type='none'), geo=None, coordinates=None, place=None, contributors=None, is_quote_status=False, retweet_count=1381, favorite_count=5810, favorited=False, retweeted=False, lang='en')\n",
      "['Our temporary solution to a temporary problem has become a permanent problem.', 'GPT-3 is really a Turing Test for the reader.', 'It’s definitely getting harder.', '🙏', \"There's no opponent. You're fighting against yourself.\", 'Yes, similar setting, different point.', 'I wrote a story.', 'Thank you. Not a \"guru\" though 😉.', 'By making modesty a virtue, we have made excellence a vice.', 'Credit:', 'Love.', 'Well played.', 'Stand alone, carry others.', 'Status games. The external battles you fight with society due to losing an internal war.', 'The principal-agent problem applies to every facet of life. Health and happiness can’t be outsourced (they’re principal p…', 'Touché.', \"I'm sorry to be blunt, but the sole goal of life on earth is not to avoid SARS-Cov-2.\", 'Self-awareness is the most attractive trait.', 'I believe in truth.', 'The illusion of free will arises at the boundary of ignorance.  Our mind can’t accurately model the next move of its own mind-body system, nor that of others, so we assign the unpredictable agents with “free will.”', 'Now you tell me!', 'I’m increasingly convinced that avoiding scale is a recipe for happiness. Keep a small group of close friends, work with…', 'Live spontaneously.', \"Lots of people on Twitter seem to believe they're Galileo when in fact they're the Church.\", 'COVID as a potentially debilitating virus remains. COVID as a debilitating psychosocial phenomenon ended just now.', '👌', '\"A taste of freedom can make you unemployable.\" -', '👌', 'Yes.', 'The measure of beauty is promise.', 'Good one.', 'Kolmogorov complexity.', 'I put that one under wisdom.', 'The measure of wealth is freedom.  The measure of health is lightness. The measure of intellect is judgment. The measure of wisdom is silence. The measure of love is peace.', 'It was a good analogy...', 'Your expectations, your problems.', '“God is existence itself.” - Osho', 'Huge economic success, but not a free country.', 'Suggest we question the news media more. Or risk falling into the very trap we suspect others are.', 'Sure you aren’t trapped in the very cognitive dissonance that you were pointing out earlier?', 'He didn’t test positive until Thursday evening.', 'Turns out it’s fake news. 🤷🏽\\u200d♂️', 'Network effect.', 'It belongs to B, who presumably made it to sell to A.  A can let C listen for free as there’s no marginal cost to adding one more listener to the audience.', 'Thank you, but I only write when inspired.', '👇🏽', 'If you’re doing it to annoy them, then you haven’t actually forgiven them.', 'If you ever find yourself in an environment in which the principles of that cynical book apply, leave immediately.', 'Not true because Naval-now also knows a lot more about making money and would have helped Naval-then become successful with less work and anxiety.', '👇🏽', 'That guy was miserable.', 'You must be new here.', 'Be like family to your friends, a friend to strangers, and a stranger to your enemies.', 'I heard about a Mandarin who spent years fishing with a straight needle instead of a hook. People wondered and th…', 'They also wear pants. 🤷🏽\\u200d♂️', 'Find me more people to block, stat!', '👌Parks are nightclubs for families.', 'John Wilkes Bat', 'Consider:', '😂', 'I hope Xi sees this', 'China can’t believe its aim.', 'Imagine how effective you would be if you weren’t anxious all the time.', 'Imagine how effective you would be if you weren’t anxious all the time.', 'Don’t worry about status, be happy.', 'Practice your craft at the edge of your capability.', 'That’s not a real cost, that’s your cravings.', 'Indeed.', 'These are all free 😉.', 'Great observation.', 'Highs that don’t lead to subsequent lows: • Meditation, gratitude, prayer, journaling, unconditional love. • Yoga, exercise, play, nature walks. • Creating art, reading for fun, singing, poetry. • Practicing a craft, pursuing curiosity, work done for its own sake, flow.', 'Nice framework.', 'Crypto stablecoins - choose between blowup risk, censorship risk, and fraud risk.', 'If the work doesn’t require creativity, delegate it, automate it, or leave it.', 'The opposite of education is not ignorance; it is education in social science.', \"Super interesting to see Coinbase's stance on clarifying their mission ( see -&gt;  Since this has bee…\", 'How much there is in the world I do not want.', 'To measure the quality of your life, simply do nothing, and see how it feels.', 'This is true, I tell my friends that I’m lucky to be born in an age which financially rewards intellectual athletes and lazy autodidacts.', '\"Escape competition through authenticity.\" -', 'The goal of media is to make every problem, your problem.', 'The person who tells the most compelling story wins. Not the best idea. Just the story that catches people’s attention an…', 'I, 🤖.', 'But I’ll still be dead. 🤷🏽\\u200d♂️😉', 'Actually by . Thank you.', 'Don’t be a hater.', 'After I’d read many others and came back full circle.', 'The quality of your mind is the quality of your life.', 'Charisma is the ability to project confidence and love at the same time.', 'Cool people are considered “cool” because they break the rules and get away with it.', '.@joerogan: \"What is \\'discipline?\\'\" \"Do what you hate to do, but do it like you love it.\"', 'That was my first thought as well. Twitter selectively retweets some likes, and people will normally judge a retweet without digging through the author’s back catalog. Anyway, no malice intended. There are bots / lemmings, but more charitable explanations as well.', 'I liked three tweets of yours. They got 3, 20, and 81 likes, respectively.', 'Clever.', 'Hi.', '“Why is the FDA saying tests may only be performed in a medical setting? By what right can they tell me that I can’t send samples to a lab, and be told what’s in them? This could be over if the FDA allowed cheap, fast, cash-and-carry, unregulated tests.”', 'They are selective about training data, feedback loops, and goal optimization. Some parts, like Twitter’s moments, are clearly hand-curated.', 'Their algorithms are neither difficult nor defensible, as anyone in the business knows. The network effects are what make them valuable.', 'Entrepreneurs vs Investors.', 'Have you ever seen an even handed documentary that tried to fairly present opposing points of view?', 'Independent (re)discovery. The original concept is very old, even expressed in the Bhagavad Gita.', 'If Coke could reprogram your brain, we would ask to see what was inside.', 'I don’t watch documentaries.', 'The goals and the data feeds are part of it, obviously.', 'Yes, it already exists. We already have 506c (public raising) of self-syndicates (SPVs run by a company) that can accept wires and ACH into SAFE docs online.  Someone credible just needs to run one openly.', 'Not true, network effects are real and vast swaths of life get closed off by private companies.', 'All social media oligopolists, not just TikTok, should open their recommendation algorithms to scrutiny.  They are programming our minds and our societies.', 'No worries, it’s supposed to be free. I don’t make anything, including from the print edition.', '\"We live in the age of infinite leverage, and the economic rewards for genuine intellectual curisotiy have never been higher.…', \"It is copyrighted, but it's already free and on the web, so not sure what value putting it on other sites provides?\", 'Naval is one of those rare humans who covers everything from money to the meaning of life. Here are my top 25+ highlights fro…', 'That’s pretty standard these days but make sure it’s a very high quality accelerator with a very high quality brand, otherwise you’re better off going it alone.', 'finest quote.  \"A fit body, a calm mind, a house full of love. These things cannot be bought - they must be…', 'Yes, if you lose it utterly and completely with no desire to ever play again.', 'Spitting image!', 'The Almanack of Ravikant is now available! - Read/download for free on  - Purchase on Ki…', 'Bug, will fix.', 'Even better than being loved is being in love.', \"Doesn't work in practice. We said that our fees on were 1.5% of AUM and people immediately misinterpreted that all over the place as 1.5% per year (when it's 0.15% per year). Deploying a product is complex and adding non-standard messaging in the middle of it doesn't work.\", 'Yes but if we try to change the industry standard, GPs will get mad at us and haters will read it as 20% per year. Hard to move against accounting standards.', 'Traditional VCs have done this too, no different. You’re just getting exposed to traditional VC practices.  IMO it’s fine for small funds to charge mgmt fees because of the high labor:capital ratios. For larger funds it’s straight up extra comp. $B hedge funds charge 2/20!', 'Agreed, it’s not lowered fees.', \"It's rare to find a book that can be easily summarized and yet is worth reading. If it's a book built around a single core idea, then sure, read the blog post, the review, or the summary instead. But generally I avoid those books altogether.\", \"It's not standard with traditional funds, but seems to be the trend with the current rolling funds. Possibly because the leads have day jobs and don't need salaries, AL handles all of the backoffice already, and they want more upside.\", 'Not quite. Traditional funds gather 2% per year on *committed capital* for ten years. Rolling funds gather 2% per year on *collected capital,* which is much smaller than committed capital early on. The 4 year collection mitigates that and brings them back towards equivalence.', '😂', 'Bet on Sahil, better trajectory.', 'The part of your work that’s new every time is the craft.  The part that’s the same every time is the toil.', 'If your opinions line up neatly with those of your friends and colleagues, they’re not your opinions.', 'The next big wave in DeFi starts when Wall Street figures out that crypto has built a better casino.', 'Good summary. The redemption part isn’t true unfortunately - LPs can change their commitment amount on a quarterly basis (up or down), but can’t redeem their invested capital outside of normal exits and secondaries.', 'I follow people hoping they’ll follow me back. 🤞', 'Money doesn’t buy happiness - it buys freedom.', 'All self-help boils down to \"choose long-term over short-term.\"', 'The reason to win the game is so that you can be free of it.', 'You were in it!', 'Excess funds roll into the next quarter.', 'Easily the best browser. Chromium + privacy + crypto.', 'Reading advice &amp; thoughts on books from (thread) 🧵', 'Both good.', 'I, and I alone, am responsible for everything I think and feel. —@naval #ThingsItTakesAWhileToUnderstand artwork by https…', 'Naval Ravikant advice on what to pay attention to and what you can safely ignore.  “If it is not making you happier, or h…', 'Nobody listens to their friends, let alone their elders.', 'If some LP is insisting on financial rules and jargon which constrain your ability to invest in the best companies, remove that LP immediately.  Overlooked side benefit of Rolling Funds - you can fire LPs.', 'This is a power law business and any rule that might cause you to pass on the next Facebook or Uber should be thrown out.', 'I’ll be out of the mainstream here but I just prefer to focus on investing into the best companies at reasonable prices. And obviously, diversify.  Beyond that, you’re optimizing on the margins when that time and energy is better spent elsewhere.', 'Nearly zero if we do our job right.', 'I liked it. But these kinds of books aren’t quick reads, they’re inspiration to self reflect.', 'Borges, updated. 😉', 'Yes, as you re-sensitize to everyday reality.  Meditation is the ultimate example - you do absolutely nothing and can gain intense “pleasure” from it (although that’s not the point).', 'Hi.', '👌', '👌', 'Yes, at Also some appearances listed here:', 'At this point, lockdowns are performance art.', 'Put politicians and journalists on unemployment and the lockdowns will be over within a week.', '\"You\\'re not gonna get rich renting out your time,\" said I turned it into a song I was a DJ, renting out my time…', 'Thank you, nice. Not a fan of the first, honestly. No need to curse / use crude words. There’s enough of that out there already.', 'That phrase is literally the definition of a free market.', 'Well said.', 'Science requires skepticism. Religion requires belief.', 'The only two ways to coordinate human societies at scale are free markets and physical power.  Any ideology rejecting free markets is just advocating for power. Socialism, communism, and fascism all converge to the same endpoint - rule by the biggest thug.', 'Typo - “clam mind.”', 'Three caveats: • Follow-ons don’t take more time from GPs. They scale better. • GPs may have insider info on follow-ons that the investors bidding to lead the round did not. • Follow-ons return capital faster so IRR could be greater.', 'Yes, we support this.\\xa0Syndicates buying secondary shares are independently managed by an affiliated RIA that operates on Angellist.', 'For investors and entrepreneurs who were in the SF Bay Area at the beginning of 2020: Do you plan to stay primarily remote or revert to primarily physical in the SF Bay Area post-lockdown?', \"Alone time is the best time.  But it never seems that way when it's happening, just after the fact.\", 'You’re thinking of syndicates, I believe. Different product - those are pop-up SPVs.  SPVs can charge management fees and we have the functionality enabled, but in practice it’s much rarer.', 'Rolling Funds have crossed carry and compete with traditional fund structures (strictly speaking, they’re Pareto Superior).  Anything a legacy fund can do, a Rolling Fund can do. So managers can use them to charge fees.', '0.15% AUM annually for 10 years. No carry on your own LPs. 5% carry on AngelList sourced LPs. ', 'That already exists and it’s called AngelList.  AngelList provides optional additional LP Capital and only collects carry on capital that it brings and that the manager accepts.  There are Rolling Fund managers who choose to bring their own LPs and pay no carry.', 'The more seriously you take yourself, the unhappier you’re going to be.', 'Yes, love it.', 'No plans, no promises. 😉', 'Me too.', 'Musashi 👌', 'Great book!', 'What entrepreneurs crave in investors is conviction.', 'Tokens count against the 20% but I don’t think SAFTs do.  cc', 'Yes, if you can be selective about follow ons, and if you have more information about your own investments than the incoming lead does, this works.', 'These funds work under the ERA exemption so only 20% of investments can be in non-qualifying assets.  Also, I don’t know of any fund administration providers that will let GPs self-custody if third-party custody is available.', 'Doesn’t feel right to me.', 'Siddhartha is a fictional retelling of the enlightenment stories in the Ashtavakra Gita and the Yoga Vasistha. You may like those.', 'The overscheduled life is not worth living.', '\"The first rule of handling conflict is don\\'t hang around with people who are constantly engaging in conflict.\" -', 'In theory it’s because there’s less allocation available early on and because GP time is finite and it costs no more time to invest in the same company again.', 'For follow ons to be so important you’d have to believe that late stage venture is underpriced relative to early stage venture.  There’s a sweet spot at the Series A, but after that the late stage is extremely competitive.', 'Personally, I think follow-ons are overrated. I’ve always done better just by doing more early stage checks.  I know that’s hard to scale, but that’s where a basket of early fund managers is very useful.', 'It’s not “screwed” but things to be aware of: • The fund can get so large that the portfolio strategy may shift over time. Fund size is uncapped. • Follow-ons come out of a later and larger pool unless the GP commits to running pro-rata SPVs. I’m an LP in a dozen RFs myself.', 'Touché.', 'Hope is the belief that this moment isn’t good enough.', 'When it comes to healing the mind, placebo effects are completely valid.', 'How long until we create the perfect drug, that has everyone addicted, all the time?']\n"
     ]
    }
   ],
   "source": [
    "naval.fetch_tweets(10)\n",
    "sample = naval.get_tweets()\n",
    "naval.print_tweets()"
   ]
  },
  {
   "cell_type": "code",
   "execution_count": 46,
   "metadata": {},
   "outputs": [
    {
     "name": "stdout",
     "output_type": "stream",
     "text": [
      "got 981 tweets from @waitbutwhy\n",
      "got 984 tweets from @slatestarcodex\n",
      "got 554 tweets from @davidgoggins\n",
      "got 1000 tweets from @ericrweinstein\n",
      "got 998 tweets from @lexfridman\n",
      "got 972 tweets from @paulg\n"
     ]
    }
   ],
   "source": [
    "lots_of_data = get_clean_data(['waitbutwhy', 'slatestarcodex', 'davidgoggins', 'ericrweinstein', 'lexfridman', 'paulg'], 50)"
   ]
  },
  {
   "cell_type": "code",
   "execution_count": 47,
   "metadata": {},
   "outputs": [
    {
     "name": "stdout",
     "output_type": "stream",
     "text": [
      "5489\n"
     ]
    }
   ],
   "source": [
    "print(len(lots_of_data))"
   ]
  },
  {
   "cell_type": "code",
   "execution_count": 48,
   "metadata": {},
   "outputs": [],
   "source": [
    "import keras\n",
    "import tensorflow as tf\n",
    "import numpy as np"
   ]
  },
  {
   "cell_type": "code",
   "execution_count": 49,
   "metadata": {},
   "outputs": [
    {
     "name": "stdout",
     "output_type": "stream",
     "text": [
      "744094\n"
     ]
    }
   ],
   "source": [
    "one_big_string = ' '.join(lots_of_data)\n",
    "print(len(one_big_string))"
   ]
  },
  {
   "cell_type": "code",
   "execution_count": 50,
   "metadata": {},
   "outputs": [],
   "source": [
    "# this tokenizes our characters into indices\n",
    "tokenizer = keras.preprocessing.text.Tokenizer(char_level=True)\n",
    "tokenizer.fit_on_texts(one_big_string)"
   ]
  },
  {
   "cell_type": "code",
   "execution_count": 51,
   "metadata": {},
   "outputs": [],
   "source": [
    "# we need to encode our entire dataset\n",
    "[encoded] = np.array(tokenizer.texts_to_sequences([one_big_string])) - 1\n",
    "max_id = len(tokenizer.word_index)\n",
    "dataset_size = tokenizer.document_count"
   ]
  },
  {
   "cell_type": "code",
   "execution_count": 52,
   "metadata": {},
   "outputs": [],
   "source": [
    "# we will use 90% of our data as training data\n",
    "train_size = dataset_size * 90 // 100\n",
    "dataset = tf.data.Dataset.from_tensor_slices(encoded[:train_size])"
   ]
  },
  {
   "cell_type": "code",
   "execution_count": 53,
   "metadata": {},
   "outputs": [],
   "source": [
    "# we need to create 'windows' into the dataset, which is similar to creating batches.\n",
    "# we are making a 'dataset of datasets' which each contain 100 characters\n",
    "n_steps = 100\n",
    "window_length = n_steps + 1\n",
    "dataset = dataset.window(window_length, shift=1, drop_remainder=True)"
   ]
  },
  {
   "cell_type": "code",
   "execution_count": 54,
   "metadata": {},
   "outputs": [],
   "source": [
    "# then we need to smush the dataset of DATASETS into a dataset of TENSORS\n",
    "# because our model will only operate on tensors\n",
    "dataset = dataset.flat_map(lambda window: window.batch(window_length))"
   ]
  },
  {
   "cell_type": "code",
   "execution_count": 55,
   "metadata": {},
   "outputs": [],
   "source": [
    "# first we shuffle, then we split each window into X and Y, Y including the next char we want to predict\n",
    "batch_size = 32\n",
    "dataset = dataset.shuffle(10000).batch(batch_size)\n",
    "dataset = dataset.map(lambda windows: (windows[:, :-1], windows[:, 1:]))"
   ]
  },
  {
   "cell_type": "code",
   "execution_count": 56,
   "metadata": {},
   "outputs": [],
   "source": [
    "# then we turn the X input into a one-hot vector (w/ max_id encodings)\n",
    "dataset = dataset.map(lambda X_batch, Y_batch: (tf.one_hot(X_batch, depth=max_id), Y_batch))"
   ]
  },
  {
   "cell_type": "code",
   "execution_count": 57,
   "metadata": {},
   "outputs": [],
   "source": [
    "dataset = dataset.prefetch(1)"
   ]
  },
  {
   "cell_type": "code",
   "execution_count": 58,
   "metadata": {},
   "outputs": [],
   "source": [
    "model = keras.models.Sequential([\n",
    "    keras.layers.LSTM(128, return_sequences=True, input_shape=[None, max_id], dropout=0.2, recurrent_dropout=0.2),\n",
    "    keras.layers.LSTM(128, return_sequences=True, dropout=0.2, recurrent_dropout=0.2),\n",
    "    keras.layers.TimeDistributed(keras.layers.Dense(max_id, activation=\"softmax\"))\n",
    "])"
   ]
  },
  {
   "cell_type": "code",
   "execution_count": 59,
   "metadata": {},
   "outputs": [
    {
     "name": "stdout",
     "output_type": "stream",
     "text": [
      "Epoch 1/25\n",
      "20925/20925 [==============================] - 3777s 181ms/step - loss: 1.7728\n",
      "Epoch 2/25\n",
      "20925/20925 [==============================] - 3593s 172ms/step - loss: 1.4665\n",
      "Epoch 3/25\n",
      "20925/20925 [==============================] - 3565s 170ms/step - loss: 1.4223\n",
      "Epoch 4/25\n",
      "20925/20925 [==============================] - 3548s 170ms/step - loss: 1.4023\n",
      "Epoch 5/25\n",
      "20925/20925 [==============================] - 3554s 170ms/step - loss: 1.3904\n",
      "Epoch 6/25\n",
      "20925/20925 [==============================] - 3550s 170ms/step - loss: 1.3826\n",
      "Epoch 7/25\n",
      "20925/20925 [==============================] - 3558s 170ms/step - loss: 1.3772\n",
      "Epoch 8/25\n",
      "20925/20925 [==============================] - 3554s 170ms/step - loss: 1.3730\n",
      "Epoch 9/25\n",
      "20925/20925 [==============================] - 3551s 170ms/step - loss: 1.3696\n",
      "Epoch 10/25\n",
      "20925/20925 [==============================] - 3585s 171ms/step - loss: 1.3668\n",
      "Epoch 11/25\n",
      "20925/20925 [==============================] - 3536s 169ms/step - loss: 1.3647\n",
      "Epoch 12/25\n",
      "20925/20925 [==============================] - 3543s 169ms/step - loss: 1.3629\n",
      "Epoch 13/25\n",
      "20925/20925 [==============================] - 3535s 169ms/step - loss: 1.3612\n",
      "Epoch 14/25\n",
      "20925/20925 [==============================] - 3530s 169ms/step - loss: 1.3599\n",
      "Epoch 15/25\n",
      "20925/20925 [==============================] - 3589s 171ms/step - loss: 1.3589\n",
      "Epoch 16/25\n",
      "   36/20925 [..............................] - ETA: 55:04 - loss: 1.5825"
     ]
    },
    {
     "ename": "KeyboardInterrupt",
     "evalue": "",
     "output_type": "error",
     "traceback": [
      "\u001b[0;31m---------------------------------------------------------------------------\u001b[0m",
      "\u001b[0;31mKeyboardInterrupt\u001b[0m                         Traceback (most recent call last)",
      "\u001b[0;32m<ipython-input-59-56d9453a78fd>\u001b[0m in \u001b[0;36m<module>\u001b[0;34m\u001b[0m\n\u001b[1;32m      1\u001b[0m \u001b[0mmodel\u001b[0m\u001b[0;34m.\u001b[0m\u001b[0mcompile\u001b[0m\u001b[0;34m(\u001b[0m\u001b[0mloss\u001b[0m\u001b[0;34m=\u001b[0m\u001b[0;34m\"sparse_categorical_crossentropy\"\u001b[0m\u001b[0;34m,\u001b[0m \u001b[0moptimizer\u001b[0m\u001b[0;34m=\u001b[0m\u001b[0;34m\"adam\"\u001b[0m\u001b[0;34m)\u001b[0m\u001b[0;34m\u001b[0m\u001b[0;34m\u001b[0m\u001b[0m\n\u001b[0;32m----> 2\u001b[0;31m \u001b[0mhistory\u001b[0m \u001b[0;34m=\u001b[0m \u001b[0mmodel\u001b[0m\u001b[0;34m.\u001b[0m\u001b[0mfit\u001b[0m\u001b[0;34m(\u001b[0m\u001b[0mdataset\u001b[0m\u001b[0;34m,\u001b[0m \u001b[0mepochs\u001b[0m\u001b[0;34m=\u001b[0m\u001b[0;36m25\u001b[0m\u001b[0;34m)\u001b[0m\u001b[0;34m\u001b[0m\u001b[0;34m\u001b[0m\u001b[0m\n\u001b[0m",
      "\u001b[0;32m~/.local/lib/python3.8/site-packages/tensorflow/python/keras/engine/training.py\u001b[0m in \u001b[0;36m_method_wrapper\u001b[0;34m(self, *args, **kwargs)\u001b[0m\n\u001b[1;32m    106\u001b[0m   \u001b[0;32mdef\u001b[0m \u001b[0m_method_wrapper\u001b[0m\u001b[0;34m(\u001b[0m\u001b[0mself\u001b[0m\u001b[0;34m,\u001b[0m \u001b[0;34m*\u001b[0m\u001b[0margs\u001b[0m\u001b[0;34m,\u001b[0m \u001b[0;34m**\u001b[0m\u001b[0mkwargs\u001b[0m\u001b[0;34m)\u001b[0m\u001b[0;34m:\u001b[0m\u001b[0;34m\u001b[0m\u001b[0;34m\u001b[0m\u001b[0m\n\u001b[1;32m    107\u001b[0m     \u001b[0;32mif\u001b[0m \u001b[0;32mnot\u001b[0m \u001b[0mself\u001b[0m\u001b[0;34m.\u001b[0m\u001b[0m_in_multi_worker_mode\u001b[0m\u001b[0;34m(\u001b[0m\u001b[0;34m)\u001b[0m\u001b[0;34m:\u001b[0m  \u001b[0;31m# pylint: disable=protected-access\u001b[0m\u001b[0;34m\u001b[0m\u001b[0;34m\u001b[0m\u001b[0m\n\u001b[0;32m--> 108\u001b[0;31m       \u001b[0;32mreturn\u001b[0m \u001b[0mmethod\u001b[0m\u001b[0;34m(\u001b[0m\u001b[0mself\u001b[0m\u001b[0;34m,\u001b[0m \u001b[0;34m*\u001b[0m\u001b[0margs\u001b[0m\u001b[0;34m,\u001b[0m \u001b[0;34m**\u001b[0m\u001b[0mkwargs\u001b[0m\u001b[0;34m)\u001b[0m\u001b[0;34m\u001b[0m\u001b[0;34m\u001b[0m\u001b[0m\n\u001b[0m\u001b[1;32m    109\u001b[0m \u001b[0;34m\u001b[0m\u001b[0m\n\u001b[1;32m    110\u001b[0m     \u001b[0;31m# Running inside `run_distribute_coordinator` already.\u001b[0m\u001b[0;34m\u001b[0m\u001b[0;34m\u001b[0m\u001b[0;34m\u001b[0m\u001b[0m\n",
      "\u001b[0;32m~/.local/lib/python3.8/site-packages/tensorflow/python/keras/engine/training.py\u001b[0m in \u001b[0;36mfit\u001b[0;34m(self, x, y, batch_size, epochs, verbose, callbacks, validation_split, validation_data, shuffle, class_weight, sample_weight, initial_epoch, steps_per_epoch, validation_steps, validation_batch_size, validation_freq, max_queue_size, workers, use_multiprocessing)\u001b[0m\n\u001b[1;32m   1096\u001b[0m                 batch_size=batch_size):\n\u001b[1;32m   1097\u001b[0m               \u001b[0mcallbacks\u001b[0m\u001b[0;34m.\u001b[0m\u001b[0mon_train_batch_begin\u001b[0m\u001b[0;34m(\u001b[0m\u001b[0mstep\u001b[0m\u001b[0;34m)\u001b[0m\u001b[0;34m\u001b[0m\u001b[0;34m\u001b[0m\u001b[0m\n\u001b[0;32m-> 1098\u001b[0;31m               \u001b[0mtmp_logs\u001b[0m \u001b[0;34m=\u001b[0m \u001b[0mtrain_function\u001b[0m\u001b[0;34m(\u001b[0m\u001b[0miterator\u001b[0m\u001b[0;34m)\u001b[0m\u001b[0;34m\u001b[0m\u001b[0;34m\u001b[0m\u001b[0m\n\u001b[0m\u001b[1;32m   1099\u001b[0m               \u001b[0;32mif\u001b[0m \u001b[0mdata_handler\u001b[0m\u001b[0;34m.\u001b[0m\u001b[0mshould_sync\u001b[0m\u001b[0;34m:\u001b[0m\u001b[0;34m\u001b[0m\u001b[0;34m\u001b[0m\u001b[0m\n\u001b[1;32m   1100\u001b[0m                 \u001b[0mcontext\u001b[0m\u001b[0;34m.\u001b[0m\u001b[0masync_wait\u001b[0m\u001b[0;34m(\u001b[0m\u001b[0;34m)\u001b[0m\u001b[0;34m\u001b[0m\u001b[0;34m\u001b[0m\u001b[0m\n",
      "\u001b[0;32m~/.local/lib/python3.8/site-packages/tensorflow/python/eager/def_function.py\u001b[0m in \u001b[0;36m__call__\u001b[0;34m(self, *args, **kwds)\u001b[0m\n\u001b[1;32m    778\u001b[0m       \u001b[0;32melse\u001b[0m\u001b[0;34m:\u001b[0m\u001b[0;34m\u001b[0m\u001b[0;34m\u001b[0m\u001b[0m\n\u001b[1;32m    779\u001b[0m         \u001b[0mcompiler\u001b[0m \u001b[0;34m=\u001b[0m \u001b[0;34m\"nonXla\"\u001b[0m\u001b[0;34m\u001b[0m\u001b[0;34m\u001b[0m\u001b[0m\n\u001b[0;32m--> 780\u001b[0;31m         \u001b[0mresult\u001b[0m \u001b[0;34m=\u001b[0m \u001b[0mself\u001b[0m\u001b[0;34m.\u001b[0m\u001b[0m_call\u001b[0m\u001b[0;34m(\u001b[0m\u001b[0;34m*\u001b[0m\u001b[0margs\u001b[0m\u001b[0;34m,\u001b[0m \u001b[0;34m**\u001b[0m\u001b[0mkwds\u001b[0m\u001b[0;34m)\u001b[0m\u001b[0;34m\u001b[0m\u001b[0;34m\u001b[0m\u001b[0m\n\u001b[0m\u001b[1;32m    781\u001b[0m \u001b[0;34m\u001b[0m\u001b[0m\n\u001b[1;32m    782\u001b[0m       \u001b[0mnew_tracing_count\u001b[0m \u001b[0;34m=\u001b[0m \u001b[0mself\u001b[0m\u001b[0;34m.\u001b[0m\u001b[0m_get_tracing_count\u001b[0m\u001b[0;34m(\u001b[0m\u001b[0;34m)\u001b[0m\u001b[0;34m\u001b[0m\u001b[0;34m\u001b[0m\u001b[0m\n",
      "\u001b[0;32m~/.local/lib/python3.8/site-packages/tensorflow/python/eager/def_function.py\u001b[0m in \u001b[0;36m_call\u001b[0;34m(self, *args, **kwds)\u001b[0m\n\u001b[1;32m    805\u001b[0m       \u001b[0;31m# In this case we have created variables on the first call, so we run the\u001b[0m\u001b[0;34m\u001b[0m\u001b[0;34m\u001b[0m\u001b[0;34m\u001b[0m\u001b[0m\n\u001b[1;32m    806\u001b[0m       \u001b[0;31m# defunned version which is guaranteed to never create variables.\u001b[0m\u001b[0;34m\u001b[0m\u001b[0;34m\u001b[0m\u001b[0;34m\u001b[0m\u001b[0m\n\u001b[0;32m--> 807\u001b[0;31m       \u001b[0;32mreturn\u001b[0m \u001b[0mself\u001b[0m\u001b[0;34m.\u001b[0m\u001b[0m_stateless_fn\u001b[0m\u001b[0;34m(\u001b[0m\u001b[0;34m*\u001b[0m\u001b[0margs\u001b[0m\u001b[0;34m,\u001b[0m \u001b[0;34m**\u001b[0m\u001b[0mkwds\u001b[0m\u001b[0;34m)\u001b[0m  \u001b[0;31m# pylint: disable=not-callable\u001b[0m\u001b[0;34m\u001b[0m\u001b[0;34m\u001b[0m\u001b[0m\n\u001b[0m\u001b[1;32m    808\u001b[0m     \u001b[0;32melif\u001b[0m \u001b[0mself\u001b[0m\u001b[0;34m.\u001b[0m\u001b[0m_stateful_fn\u001b[0m \u001b[0;32mis\u001b[0m \u001b[0;32mnot\u001b[0m \u001b[0;32mNone\u001b[0m\u001b[0;34m:\u001b[0m\u001b[0;34m\u001b[0m\u001b[0;34m\u001b[0m\u001b[0m\n\u001b[1;32m    809\u001b[0m       \u001b[0;31m# Release the lock early so that multiple threads can perform the call\u001b[0m\u001b[0;34m\u001b[0m\u001b[0;34m\u001b[0m\u001b[0;34m\u001b[0m\u001b[0m\n",
      "\u001b[0;32m~/.local/lib/python3.8/site-packages/tensorflow/python/eager/function.py\u001b[0m in \u001b[0;36m__call__\u001b[0;34m(self, *args, **kwargs)\u001b[0m\n\u001b[1;32m   2827\u001b[0m     \u001b[0;32mwith\u001b[0m \u001b[0mself\u001b[0m\u001b[0;34m.\u001b[0m\u001b[0m_lock\u001b[0m\u001b[0;34m:\u001b[0m\u001b[0;34m\u001b[0m\u001b[0;34m\u001b[0m\u001b[0m\n\u001b[1;32m   2828\u001b[0m       \u001b[0mgraph_function\u001b[0m\u001b[0;34m,\u001b[0m \u001b[0margs\u001b[0m\u001b[0;34m,\u001b[0m \u001b[0mkwargs\u001b[0m \u001b[0;34m=\u001b[0m \u001b[0mself\u001b[0m\u001b[0;34m.\u001b[0m\u001b[0m_maybe_define_function\u001b[0m\u001b[0;34m(\u001b[0m\u001b[0margs\u001b[0m\u001b[0;34m,\u001b[0m \u001b[0mkwargs\u001b[0m\u001b[0;34m)\u001b[0m\u001b[0;34m\u001b[0m\u001b[0;34m\u001b[0m\u001b[0m\n\u001b[0;32m-> 2829\u001b[0;31m     \u001b[0;32mreturn\u001b[0m \u001b[0mgraph_function\u001b[0m\u001b[0;34m.\u001b[0m\u001b[0m_filtered_call\u001b[0m\u001b[0;34m(\u001b[0m\u001b[0margs\u001b[0m\u001b[0;34m,\u001b[0m \u001b[0mkwargs\u001b[0m\u001b[0;34m)\u001b[0m  \u001b[0;31m# pylint: disable=protected-access\u001b[0m\u001b[0;34m\u001b[0m\u001b[0;34m\u001b[0m\u001b[0m\n\u001b[0m\u001b[1;32m   2830\u001b[0m \u001b[0;34m\u001b[0m\u001b[0m\n\u001b[1;32m   2831\u001b[0m   \u001b[0;34m@\u001b[0m\u001b[0mproperty\u001b[0m\u001b[0;34m\u001b[0m\u001b[0;34m\u001b[0m\u001b[0m\n",
      "\u001b[0;32m~/.local/lib/python3.8/site-packages/tensorflow/python/eager/function.py\u001b[0m in \u001b[0;36m_filtered_call\u001b[0;34m(self, args, kwargs, cancellation_manager)\u001b[0m\n\u001b[1;32m   1841\u001b[0m       \u001b[0;31m`\u001b[0m\u001b[0margs\u001b[0m\u001b[0;31m`\u001b[0m \u001b[0;32mand\u001b[0m\u001b[0;31m \u001b[0m\u001b[0;31m`\u001b[0m\u001b[0mkwargs\u001b[0m\u001b[0;31m`\u001b[0m\u001b[0;34m.\u001b[0m\u001b[0;34m\u001b[0m\u001b[0;34m\u001b[0m\u001b[0m\n\u001b[1;32m   1842\u001b[0m     \"\"\"\n\u001b[0;32m-> 1843\u001b[0;31m     return self._call_flat(\n\u001b[0m\u001b[1;32m   1844\u001b[0m         [t for t in nest.flatten((args, kwargs), expand_composites=True)\n\u001b[1;32m   1845\u001b[0m          if isinstance(t, (ops.Tensor,\n",
      "\u001b[0;32m~/.local/lib/python3.8/site-packages/tensorflow/python/eager/function.py\u001b[0m in \u001b[0;36m_call_flat\u001b[0;34m(self, args, captured_inputs, cancellation_manager)\u001b[0m\n\u001b[1;32m   1921\u001b[0m         and executing_eagerly):\n\u001b[1;32m   1922\u001b[0m       \u001b[0;31m# No tape is watching; skip to running the function.\u001b[0m\u001b[0;34m\u001b[0m\u001b[0;34m\u001b[0m\u001b[0;34m\u001b[0m\u001b[0m\n\u001b[0;32m-> 1923\u001b[0;31m       return self._build_call_outputs(self._inference_function.call(\n\u001b[0m\u001b[1;32m   1924\u001b[0m           ctx, args, cancellation_manager=cancellation_manager))\n\u001b[1;32m   1925\u001b[0m     forward_backward = self._select_forward_and_backward_functions(\n",
      "\u001b[0;32m~/.local/lib/python3.8/site-packages/tensorflow/python/eager/function.py\u001b[0m in \u001b[0;36mcall\u001b[0;34m(self, ctx, args, cancellation_manager)\u001b[0m\n\u001b[1;32m    543\u001b[0m       \u001b[0;32mwith\u001b[0m \u001b[0m_InterpolateFunctionError\u001b[0m\u001b[0;34m(\u001b[0m\u001b[0mself\u001b[0m\u001b[0;34m)\u001b[0m\u001b[0;34m:\u001b[0m\u001b[0;34m\u001b[0m\u001b[0;34m\u001b[0m\u001b[0m\n\u001b[1;32m    544\u001b[0m         \u001b[0;32mif\u001b[0m \u001b[0mcancellation_manager\u001b[0m \u001b[0;32mis\u001b[0m \u001b[0;32mNone\u001b[0m\u001b[0;34m:\u001b[0m\u001b[0;34m\u001b[0m\u001b[0;34m\u001b[0m\u001b[0m\n\u001b[0;32m--> 545\u001b[0;31m           outputs = execute.execute(\n\u001b[0m\u001b[1;32m    546\u001b[0m               \u001b[0mstr\u001b[0m\u001b[0;34m(\u001b[0m\u001b[0mself\u001b[0m\u001b[0;34m.\u001b[0m\u001b[0msignature\u001b[0m\u001b[0;34m.\u001b[0m\u001b[0mname\u001b[0m\u001b[0;34m)\u001b[0m\u001b[0;34m,\u001b[0m\u001b[0;34m\u001b[0m\u001b[0;34m\u001b[0m\u001b[0m\n\u001b[1;32m    547\u001b[0m               \u001b[0mnum_outputs\u001b[0m\u001b[0;34m=\u001b[0m\u001b[0mself\u001b[0m\u001b[0;34m.\u001b[0m\u001b[0m_num_outputs\u001b[0m\u001b[0;34m,\u001b[0m\u001b[0;34m\u001b[0m\u001b[0;34m\u001b[0m\u001b[0m\n",
      "\u001b[0;32m~/.local/lib/python3.8/site-packages/tensorflow/python/eager/execute.py\u001b[0m in \u001b[0;36mquick_execute\u001b[0;34m(op_name, num_outputs, inputs, attrs, ctx, name)\u001b[0m\n\u001b[1;32m     57\u001b[0m   \u001b[0;32mtry\u001b[0m\u001b[0;34m:\u001b[0m\u001b[0;34m\u001b[0m\u001b[0;34m\u001b[0m\u001b[0m\n\u001b[1;32m     58\u001b[0m     \u001b[0mctx\u001b[0m\u001b[0;34m.\u001b[0m\u001b[0mensure_initialized\u001b[0m\u001b[0;34m(\u001b[0m\u001b[0;34m)\u001b[0m\u001b[0;34m\u001b[0m\u001b[0;34m\u001b[0m\u001b[0m\n\u001b[0;32m---> 59\u001b[0;31m     tensors = pywrap_tfe.TFE_Py_Execute(ctx._handle, device_name, op_name,\n\u001b[0m\u001b[1;32m     60\u001b[0m                                         inputs, attrs, num_outputs)\n\u001b[1;32m     61\u001b[0m   \u001b[0;32mexcept\u001b[0m \u001b[0mcore\u001b[0m\u001b[0;34m.\u001b[0m\u001b[0m_NotOkStatusException\u001b[0m \u001b[0;32mas\u001b[0m \u001b[0me\u001b[0m\u001b[0;34m:\u001b[0m\u001b[0;34m\u001b[0m\u001b[0;34m\u001b[0m\u001b[0m\n",
      "\u001b[0;31mKeyboardInterrupt\u001b[0m: "
     ]
    }
   ],
   "source": [
    "model.compile(loss=\"sparse_categorical_crossentropy\", optimizer=\"adam\")\n",
    "history = model.fit(dataset, epochs=25)"
   ]
  },
  {
   "cell_type": "code",
   "execution_count": 34,
   "metadata": {},
   "outputs": [],
   "source": [
    "def preprocess(text):\n",
    "    X = np.array(tokenizer.texts_to_sequences(text)) - 1\n",
    "    return tf.one_hot(X, max_id)"
   ]
  },
  {
   "cell_type": "code",
   "execution_count": 60,
   "metadata": {},
   "outputs": [
    {
     "data": {
      "text/plain": [
       "'e'"
      ]
     },
     "execution_count": 60,
     "metadata": {},
     "output_type": "execute_result"
    }
   ],
   "source": [
    "X_new = preprocess([\"hey ther\"])\n",
    "y_pred = model.predict_classes(X_new)\n",
    "tokenizer.sequences_to_texts(y_pred + 1)[0][-1]"
   ]
  },
  {
   "cell_type": "code",
   "execution_count": 61,
   "metadata": {},
   "outputs": [],
   "source": [
    "def finish_text(text, n_chars=50, temperature=0.2):\n",
    "    for _ in range(n_chars):\n",
    "        x_new = preprocess([text])\n",
    "        y_probability = model.predict(x_new)[0, -1:, :]\n",
    "        rescaled_logits = tf.math.log(y_probability) / temperature\n",
    "        char_id = tf.random.categorical(rescaled_logits, num_samples=1) + 1\n",
    "        text += tokenizer.sequences_to_texts(char_id.numpy())[0]\n",
    "    return text"
   ]
  },
  {
   "cell_type": "code",
   "execution_count": 62,
   "metadata": {},
   "outputs": [
    {
     "data": {
      "text/plain": [
       "'he interesting the statement and the press in the problem is that the people would be the country of the great complete in the experience of '"
      ]
     },
     "execution_count": 62,
     "metadata": {},
     "output_type": "execute_result"
    }
   ],
   "source": [
    "finish_text('h', 140)"
   ]
  },
  {
   "cell_type": "code",
   "execution_count": 41,
   "metadata": {},
   "outputs": [
    {
     "data": {
      "text/plain": [
       "'to see that even making share service a little be more something on the show — zen, investing, mike tyson, artificial intelligence, and the dangers of security, which is probably doesn’t could be new technology from the training in about heavy for the latest of the typersign of th'"
      ]
     },
     "execution_count": 41,
     "metadata": {},
     "output_type": "execute_result"
    }
   ],
   "source": [
    "finish_text('t', 280, 0.4)"
   ]
  },
  {
   "cell_type": "code",
   "execution_count": 42,
   "metadata": {},
   "outputs": [
    {
     "data": {
      "text/plain": [
       "'the thing about quantum computing is the production tasty need to see time? yeah, so we will be a little be the tesla will be the great of part. well we could probably doesn’t creative production tanks when i have such a best weeks. we’re a model 3 or the show to be a fairly energy cargo starlink satellites are pro'"
      ]
     },
     "execution_count": 42,
     "metadata": {},
     "output_type": "execute_result"
    }
   ],
   "source": [
    "finish_text('the thing about quantum computing is', 280, 0.5)"
   ]
  },
  {
   "cell_type": "code",
   "execution_count": 68,
   "metadata": {},
   "outputs": [
    {
     "data": {
      "text/plain": [
       "'420 in the statement startup in the most people are all the same thing in the and the other instead of a country and in a fast statement in the '"
      ]
     },
     "execution_count": 68,
     "metadata": {},
     "output_type": "execute_result"
    }
   ],
   "source": [
    "finish_text('420 ', 140, 0.4)"
   ]
  },
  {
   "cell_type": "code",
   "execution_count": 67,
   "metadata": {},
   "outputs": [
    {
     "data": {
      "text/plain": [
       "'starlink some power that a power to you the answer is not the best indiction is that i think that seems to the'"
      ]
     },
     "execution_count": 67,
     "metadata": {},
     "output_type": "execute_result"
    }
   ],
   "source": [
    "finish_text('starlink s', 100, 0.4)"
   ]
  },
  {
   "cell_type": "code",
   "execution_count": 65,
   "metadata": {},
   "outputs": [
    {
     "data": {
      "text/plain": [
       "\"investing the second that i don't want to the people are and the state so i think the specific problems is that i think the world is the second people was a problem in the most because the second statements in the world of being the best the specific statements of the startup and i was a p\""
      ]
     },
     "execution_count": 65,
     "metadata": {},
     "output_type": "execute_result"
    }
   ],
   "source": [
    "finish_text('investing ', 280, 0.3)"
   ]
  },
  {
   "cell_type": "code",
   "execution_count": null,
   "metadata": {},
   "outputs": [],
   "source": []
  }
 ],
 "metadata": {
  "kernelspec": {
   "display_name": "env",
   "language": "python",
   "name": "env"
  },
  "language_info": {
   "codemirror_mode": {
    "name": "ipython",
    "version": 3
   },
   "file_extension": ".py",
   "mimetype": "text/x-python",
   "name": "python",
   "nbconvert_exporter": "python",
   "pygments_lexer": "ipython3",
   "version": "3.8.5"
  }
 },
 "nbformat": 4,
 "nbformat_minor": 4
}
